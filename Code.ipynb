{
 "cells": [
  {
   "cell_type": "code",
   "execution_count": 12,
   "metadata": {},
   "outputs": [],
   "source": [
    "import oracledb\n",
    "import pandas as pd\n",
    "from sqlalchemy import create_engine\n",
    "import sqlalchemy\n",
    "oracledb.init_oracle_client()"
   ]
  },
  {
   "cell_type": "code",
   "execution_count": 15,
   "metadata": {},
   "outputs": [
    {
     "name": "stdout",
     "output_type": "stream",
     "text": [
      "2.0.23\n",
      "1.4.2\n"
     ]
    }
   ],
   "source": [
    "print(sqlalchemy.__version__)\n",
    "print(oracledb.__version__)"
   ]
  },
  {
   "cell_type": "code",
   "execution_count": 2,
   "metadata": {},
   "outputs": [],
   "source": [
    "html = \"\"\"\n",
    "<!DOCTYPE html>\n",
    "<html>\n",
    "    <head>\n",
    "            <link rel=\"stylesheet\" type=\"text/css\" hs-webfonts=\"true\" href=\"https://fonts.googleapis.com/css?family=Lato|Lato:i,b,bi\">\n",
    "            <meta http-equiv=\"Content-Type\" content=\"text/html; charset=UTF-8\">\n",
    "            <meta name=\"viewport\" content=\"width=device-width, initial-scale=1.0\">\n",
    "            <style>\n",
    "    table {\n",
    "        background: white;                                                \n",
    "        border-collapse: collapse;\n",
    "        border-radius: 5px;\n",
    "        \n",
    "        box-shadow: 0 5px 10px rgba(0, 0, 0, 0.1);\n",
    "        margin:0px auto;\n",
    "        width:100%;                                                \n",
    "    }                                                                    \n",
    "    \n",
    "    table, th, td{\n",
    "        border: 1px solid #C1C3D1;\n",
    "    }\n",
    "    \n",
    "    td{\n",
    "        padding: 5px;\n",
    "        min-width:125px;\n",
    "        max-width:500px;\n",
    "    }\n",
    "    \n",
    "    tr{\n",
    "        color:#262626; \n",
    "          font-size:14px;\n",
    "          font-weight:normal;\n",
    "          text-wrap:normal;\n",
    "    }\n",
    "    \n",
    "    td a{\n",
    "        text-decoration:none;\n",
    "    }\n",
    "    \n",
    "    td a:hover{\n",
    "        text-decoration:underline;\n",
    "        color:#ffffff;\n",
    "        font-weight:300;\n",
    "        font-size:14px;\n",
    "    }\n",
    "    \n",
    "    th{\n",
    "        background-color: #FF8C00;/*#228B22;*/\n",
    "        border-bottom-color:#228B22;\n",
    "        color:#ffffff;                                                \n",
    "        font-size:14px;\n",
    "        font-weight:bold;\n",
    "        padding:10px 5px;\n",
    "        text-align:left;\n",
    "        text-shadow: 0 1px 1px rgba(0, 0, 0, 0.2);\n",
    "        -webkit-text-shadow: 0 1px 1px rgba(0, 0, 0, 0.2);\n",
    "        vertical-align:middle;\n",
    "        text-align:center;\n",
    "    }\n",
    "    \n",
    "    tr:hover td{\n",
    "      background:#58585a;\n",
    "      color:#FFFFFF;\n",
    "      border-top: 1px solid #22262e;\n",
    "      border-bottom: 1px solid #22262e;\n",
    "    }\n",
    "</style>\n",
    "    </head>\n",
    "<body style=\"width: 100%; font-size:15px;\">\n",
    "    <div>\n",
    "  <p>SAMPLE:</p>\n",
    "  \n",
    "  <style type=\"text/css\">\n",
    "#T_366c8_row0_col0, #T_366c8_row0_col1, #T_366c8_row0_col2, #T_366c8_row0_col3, #T_366c8_row0_col4, #T_366c8_row0_col5, #T_366c8_row0_col6, #T_366c8_row1_col0, #T_366c8_row1_col1, #T_366c8_row1_col2, #T_366c8_row1_col3, #T_366c8_row1_col4, #T_366c8_row1_col5, #T_366c8_row1_col6, #T_366c8_row2_col0, #T_366c8_row2_col1, #T_366c8_row2_col2, #T_366c8_row2_col3, #T_366c8_row2_col4, #T_366c8_row2_col5, #T_366c8_row2_col6 {\n",
    "  background-color: white;\n",
    "}\n",
    "</style>\n",
    "<table id=\"T_366c8\">\n",
    "  <thead>\n",
    "    <tr>\n",
    "      <th id=\"T_366c8_level0_col0\" class=\"col_heading level0 col0\" >SAMPLE</th>\n",
    "      <th id=\"T_366c8_level0_col1\" class=\"col_heading level0 col1\" >SAMPLE</th>\n",
    "      <th id=\"T_366c8_level0_col2\" class=\"col_heading level0 col2\" >SAMPLE</th>\n",
    "      <th id=\"T_366c8_level0_col3\" class=\"col_heading level0 col3\" >SAMPLE</th>\n",
    "      <th id=\"T_366c8_level0_col4\" class=\"col_heading level0 col4\" >SAMPLE</th>\n",
    "      <th id=\"T_366c8_level0_col5\" class=\"col_heading level0 col5\" >SAMPLE</th>\n",
    "      <th id=\"T_366c8_level0_col6\" class=\"col_heading level0 col6\" >SAMPLE</th>\n",
    "    </tr>\n",
    "  </thead>\n",
    "  <tbody>\n",
    "    <tr>\n",
    "      <td id=\"T_366c8_row0_col0\" class=\"data row0 col0\" >SAMPLESAMPLESAMPLESAMPLESAMPLE</td>\n",
    "      <td id=\"T_366c8_row0_col1\" class=\"data row0 col1\" >085SAMPLESAMPLESAMPLEGD</td>\n",
    "      <td id=\"T_366c8_row0_col2\" class=\"data row0 col2\" >BSAMPLESAMPLESAMPLEng</td>\n",
    "      <td id=\"T_366c8_row0_col3\" class=\"data row0 col3\" >Ngày</td>\n",
    "      <td id=\"T_366c8_row0_col4\" class=\"data row0 col4\" >ToSAMPLESAMPLESAMPLESAMPLE</td>\n",
    "      <td id=\"T_366c8_row0_col5\" class=\"data row0 col5\" >08/12/2023 - 14:00:00</td>\n",
    "      <td id=\"T_366c8_row0_col6\" class=\"data row0 col6\" >NSAMPLESAMPLESAMPLEn</td>\n",
    "    </tr>\n",
    "    <tr>\n",
    "      <td id=\"T_366c8_row1_col0\" class=\"data row1 col0\" >SAMPLESAMPLESAMPLESAMPLE</td>\n",
    "      <td id=\"T_366c8_row1_col1\" class=\"data row1 col1\" >SAMPLESAMPLESAMPLESAMPLED</td>\n",
    "      <td id=\"T_366c8_row1_col2\" class=\"data row1 col2\" >BáSAMPLESAMPLESAMPLESAMPLE</td>\n",
    "      <td id=\"T_366c8_row1_col3\" class=\"data row1 col3\" >SAMPLESAMPLESAMPLESAMPLE</td>\n",
    "      <td id=\"T_366c8_row1_col4\" class=\"data row1 col4\" >TSAMPLESAMPLESAMPLESAMPLEng</td>\n",
    "      <td id=\"T_366c8_row1_col5\" class=\"data row1 col5\" >08/12/2023 - 14:00:00</td>\n",
    "      <td id=\"T_366c8_row1_col6\" class=\"data row1 col6\" >NSAMPLESAMPLESAMPLESAMPLEHiện</td>\n",
    "    </tr>\n",
    "    <tr>\n",
    "      <td id=\"T_366c8_row2_col0\" class=\"data row2 col0\" >SAMPLESAMPLESAMPLESAMPLE</td>\n",
    "      <td id=\"T_366c8_row2_col1\" class=\"data row2 col1\" >0SAMPLESAMPLESAMPLE</td>\n",
    "      <td id=\"T_366c8_row2_col2\" class=\"data row2 col2\" >SAMPLESAMPLESAMPLESAMPLEợ</td>\n",
    "      <td id=\"T_366c8_row2_col3\" class=\"data row2 col3\" >SAMPLESAMPLESAMPLE</td>\n",
    "      <td id=\"T_366c8_row2_col4\" class=\"data row2 col4\" >SAMPLESAMPLESAMPLESAMPLE</td>\n",
    "      <td id=\"T_366c8_row2_col5\" class=\"data row2 col5\" >08/12/2023 - 14:00:00</td>\n",
    "      <td id=\"T_366c8_row2_col6\" class=\"data row2 col6\" >SAMPLESAMPLESAMPLE</td>\n",
    "    </tr>\n",
    "  </tbody>\n",
    "</table>\n",
    "\n",
    "  \n",
    "  <p>SAMPLESAMPLESAMPLESAMPLE.</p>\n",
    "  <p>SAMPLESAMPLESAMPLESAMPLE: <a href=\"SAMPLESAMPLESAMPLESAMPLE\">LINK</a></p>\n",
    "  <p>SAMPLESAMPLESAMPLE</p>\n",
    "  <p>SAMPLESAMPLESAMPLESAMPLE</p>\n",
    "  <p>SAMPLESAMPLESAMPLESAMPLE</p>\n",
    "  <p>SAMPLESAMPLESAMPLESAMPLE</p>\n",
    "  <p>SAMPLESAMPLESAMPLESAMPLESAMPLE</p>\n",
    "</div>\n",
    "</body>\n",
    "</html>\n",
    "\"\"\""
   ]
  },
  {
   "cell_type": "code",
   "execution_count": 4,
   "metadata": {},
   "outputs": [],
   "source": [
    "data = {\n",
    "    \"id_definition\": 1,\n",
    "    \"service_group\": \"AAAA\",\n",
    "    \"email_content\": html,\n",
    "    \"send_to\": \"sample@email.com\"\n",
    "}"
   ]
  },
  {
   "cell_type": "code",
   "execution_count": null,
   "metadata": {},
   "outputs": [],
   "source": [
    "query = \"\"\"\n",
    "INSERT INTO AUTOMAIL_JOB_LIST (ID_DEFINITION, SERVICE_GROUP, EMAIL_CONTENT, SEND_TO)\n",
    "VALUES (:id_definition, :service_group, :email_content, :send_to)\n",
    "\"\"\""
   ]
  },
  {
   "cell_type": "code",
   "execution_count": 5,
   "metadata": {},
   "outputs": [],
   "source": [
    "# DB that create the Table\n",
    "oracle_host = \"\"\n",
    "oracle_port = \"\"\n",
    "oracle_service_name = \"\"\n",
    "oracle_username = \"\"\n",
    "oracle_password = \"\""
   ]
  },
  {
   "cell_type": "code",
   "execution_count": 6,
   "metadata": {},
   "outputs": [],
   "source": [
    "oracle_connection_string = oracledb.makedsn(oracle_host, oracle_port, service_name = oracle_service_name)\n",
    "oracle_connection = oracledb.connect(user = oracle_username, password = oracle_password, dsn = oracle_connection_string, encoding = \"UTF-16\", nencoding = \"UTF-16\")\n",
    "cursor = oracle_connection.cursor()"
   ]
  },
  {
   "cell_type": "code",
   "execution_count": 9,
   "metadata": {},
   "outputs": [],
   "source": [
    "for i in range(1, 50):\n",
    "    cursor.execute(query, data)\n",
    "    oracle_connection.commit()"
   ]
  },
  {
   "cell_type": "code",
   "execution_count": 10,
   "metadata": {},
   "outputs": [],
   "source": [
    "# Account With DBLink to Table\n",
    "oracle_host = \"\"\n",
    "oracle_port = \"\"\n",
    "oracle_service_name = \"\"\n",
    "oracle_username = \"\"\n",
    "oracle_password = \"\""
   ]
  },
  {
   "cell_type": "code",
   "execution_count": null,
   "metadata": {},
   "outputs": [],
   "source": [
    "query = \"\"\"\n",
    "            SELECT *\n",
    "            FROM AUTOMAIL_JOB_LIST@DBLink\n",
    "        \"\"\"\n",
    "engine = create_engine(f\"oracle+oracledb://{oracle_username}:{oracle_password}@{oracle_host}:{oracle_port}?service_name={oracle_service_name}\",\n",
    "                        connect_args = {\n",
    "                                \"encoding\": \"UTF-16\",\n",
    "                                \"nencoding\": \"UTF-16\"\n",
    "                            },\n",
    "                        thick_mode = True,\n",
    "                        pool_pre_ping = True,\n",
    "                        echo_pool = True,\n",
    "                        pool_size = 1)\n",
    "df = pd.read_sql(query, engine)"
   ]
  }
 ],
 "metadata": {
  "kernelspec": {
   "display_name": "Python 3",
   "language": "python",
   "name": "python3"
  },
  "language_info": {
   "codemirror_mode": {
    "name": "ipython",
    "version": 3
   },
   "file_extension": ".py",
   "mimetype": "text/x-python",
   "name": "python",
   "nbconvert_exporter": "python",
   "pygments_lexer": "ipython3",
   "version": "3.9.5"
  }
 },
 "nbformat": 4,
 "nbformat_minor": 2
}
